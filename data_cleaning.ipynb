{
  "nbformat": 4,
  "nbformat_minor": 0,
  "metadata": {
    "colab": {
      "provenance": [],
      "authorship_tag": "ABX9TyMv23fmfJCXizbKTbHQZ26L",
      "include_colab_link": true
    },
    "kernelspec": {
      "name": "python3",
      "display_name": "Python 3"
    },
    "language_info": {
      "name": "python"
    }
  },
  "cells": [
    {
      "cell_type": "markdown",
      "metadata": {
        "id": "view-in-github",
        "colab_type": "text"
      },
      "source": [
        "<a href=\"https://colab.research.google.com/github/missmisspa/BDA/blob/main/data_cleaning.ipynb\" target=\"_parent\"><img src=\"https://colab.research.google.com/assets/colab-badge.svg\" alt=\"Open In Colab\"/></a>"
      ]
    },
    {
      "cell_type": "code",
      "execution_count": null,
      "metadata": {
        "colab": {
          "base_uri": "https://localhost:8080/",
          "height": 69
        },
        "id": "fvebwUiPk5TB",
        "outputId": "c3d46459-d9f8-43ce-daac-4ba2a4864109"
      },
      "outputs": [
        {
          "output_type": "stream",
          "name": "stdout",
          "text": [
            "Mounted at /content/drive\n",
            "✅ Dataset loaded successfully!\n"
          ]
        },
        {
          "output_type": "display_data",
          "data": {
            "text/plain": [
              "<IPython.core.display.Javascript object>"
            ],
            "application/javascript": [
              "\n",
              "    async function download(id, filename, size) {\n",
              "      if (!google.colab.kernel.accessAllowed) {\n",
              "        return;\n",
              "      }\n",
              "      const div = document.createElement('div');\n",
              "      const label = document.createElement('label');\n",
              "      label.textContent = `Downloading \"${filename}\": `;\n",
              "      div.appendChild(label);\n",
              "      const progress = document.createElement('progress');\n",
              "      progress.max = size;\n",
              "      div.appendChild(progress);\n",
              "      document.body.appendChild(div);\n",
              "\n",
              "      const buffers = [];\n",
              "      let downloaded = 0;\n",
              "\n",
              "      const channel = await google.colab.kernel.comms.open(id);\n",
              "      // Send a message to notify the kernel that we're ready.\n",
              "      channel.send({})\n",
              "\n",
              "      for await (const message of channel.messages) {\n",
              "        // Send a message to notify the kernel that we're ready.\n",
              "        channel.send({})\n",
              "        if (message.buffers) {\n",
              "          for (const buffer of message.buffers) {\n",
              "            buffers.push(buffer);\n",
              "            downloaded += buffer.byteLength;\n",
              "            progress.value = downloaded;\n",
              "          }\n",
              "        }\n",
              "      }\n",
              "      const blob = new Blob(buffers, {type: 'application/binary'});\n",
              "      const a = document.createElement('a');\n",
              "      a.href = window.URL.createObjectURL(blob);\n",
              "      a.download = filename;\n",
              "      div.appendChild(a);\n",
              "      a.click();\n",
              "      div.remove();\n",
              "    }\n",
              "  "
            ]
          },
          "metadata": {}
        },
        {
          "output_type": "display_data",
          "data": {
            "text/plain": [
              "<IPython.core.display.Javascript object>"
            ],
            "application/javascript": [
              "download(\"download_30baedb6-f63a-4640-b972-6a340cc2158f\", \"movies_cleaned.csv\", 2779863)"
            ]
          },
          "metadata": {}
        },
        {
          "output_type": "stream",
          "name": "stdout",
          "text": [
            "✅ Cleaning complete! Download your cleaned file from the link above.\n"
          ]
        }
      ],
      "source": [
        "# Mount Google Drive (if needed)\n",
        "from google.colab import drive\n",
        "drive.mount('/content/drive', force_remount=True)  # Ensures remounting if already mounted\n",
        "\n",
        "# Import necessary libraries\n",
        "import pandas as pd\n",
        "import numpy as np\n",
        "from google.colab import files  # Ensure file download works\n",
        "\n",
        "# Load dataset\n",
        "file_path = \"/content/drive/MyDrive/Colab Notebooks/dataset/movies.csv\"  # Update if needed\n",
        "\n",
        "try:\n",
        "    df = pd.read_csv(file_path)\n",
        "    print(\"✅ Dataset loaded successfully!\")\n",
        "except FileNotFoundError:\n",
        "    print(f\"❌ File not found: {file_path}. Please check the path.\")\n",
        "    raise\n",
        "\n",
        "# Standardize column names\n",
        "df.columns = df.columns.str.lower().str.strip()\n",
        "\n",
        "# Clean 'year' column (convert to string before extracting numbers)\n",
        "df['year'] = df['year'].astype(str).str.extract('(\\d{4})').astype('Int64')\n",
        "\n",
        "# Clean 'genre' column (remove leading/trailing whitespace and newline characters)\n",
        "df['genre'] = df['genre'].astype(str).str.strip().str.replace('\\n', '', regex=True)\n",
        "\n",
        "# Convert 'votes' column to numeric (remove commas, handle NaNs safely)\n",
        "df['votes'] = pd.to_numeric(df['votes'].astype(str).str.replace(',', '', regex=True), errors='coerce').astype('Int64')\n",
        "\n",
        "# Clean 'gross' column (convert to float, handle missing values)\n",
        "df['gross'] = df['gross'].astype(str).str.replace(r'[$,]', '', regex=True)  # Remove $ and commas\n",
        "df['gross'] = df['gross'].str.replace(r'M', 'e6', regex=True)  # Convert 'M' to millions\n",
        "df['gross'] = pd.to_numeric(df['gross'], errors='coerce')  # Convert to float\n",
        "\n",
        "# Clean 'stars' column (convert to string before removing newlines)\n",
        "df['stars'] = df['stars'].astype(str).str.replace('\\n', ' ', regex=True).str.strip()\n",
        "\n",
        "# Drop duplicates\n",
        "df.drop_duplicates(inplace=True)\n",
        "\n",
        "# Fill missing values safely (check column existence)\n",
        "if 'rating' in df.columns and df['rating'].notna().any():\n",
        "    df['rating'] = df['rating'].fillna(df['rating'].median())\n",
        "\n",
        "if 'runtime' in df.columns and df['runtime'].notna().any():\n",
        "    df['runtime'] = df['runtime'].fillna(df['runtime'].median())\n",
        "\n",
        "# Save cleaned dataset\n",
        "cleaned_file_name = \"movies_cleaned.csv\"\n",
        "df.to_csv(cleaned_file_name, index=False)\n",
        "\n",
        "# Provide download link\n",
        "files.download(cleaned_file_name)\n",
        "\n",
        "print(\"✅ Cleaning complete! Download your cleaned file from the link above.\")\n"
      ]
    }
  ]
}